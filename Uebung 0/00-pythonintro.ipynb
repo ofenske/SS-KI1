{
 "cells": [
  {
   "cell_type": "markdown",
   "metadata": {},
   "source": [
    "# Einführung in Python \n",
    "\n",
    "Dieses Tutorial stützt sich stark auf [dieses Tutorial über Audiosignalverarbeitung](https://github.com/spatialaudio/selected-topics-in-audio-signal-processing-exercises).\n",
    "\n",
    "Für die Übungen werden wir die sehr beliebte Programmiersprache [Python](https://www.python.org) zusammen mit einigen externen Bibliotheken aus dem [Scientific Python Stack](http://scipy.org) verwenden.\n",
    "Für den Anfang können Sie auch einen Blick auf diese werfen:\n",
    "\n",
    "* [Python Einführung](http://nbviewer.ipython.org/github/mgeier/python-audio/blob/master/intro-python.ipynb) (reines Python, kein NumPy)\n",
    "\n",
    "* [Simple Signal Processing Example](http://nbviewer.ipython.org/github/mgeier/python-audio/blob/master/simple-signals.ipynb) (ziemlich ähnlich zu den Dingen auf dieser Seite)\n",
    "\n",
    "Beachten Sie, dass Python nicht die einzige Option für die Art von Aufgaben ist, die wir hier angehen werden.\n",
    "Wenn Sie sich für einige Alternativen interessieren, schauen Sie sich [Julia](http://julialang.org/), [R](http://www.r-project.org/), [Octave](http://octave.org/) oder [Scilab](http://www.scilab.org/) an.\n",
    "Alle genannten Anwendungen sind Open-Source-Software und es gibt natürlich noch mehr Alternativen (sowohl kostenlose als auch proprietäre).\n",
    "\n",
    "Die meisten Übungen in diesem Kurs (einschließlich derjenigen, die Sie gerade lesen) werden als [Jupyter (früher bekannt als IPython) notebooks](http://jupyter.org/) präsentiert.\n",
    "Sie können [online](http://nbviewer.jupyter.org/github/spatialaudio/communication-acoustics-exercises/blob/master/index.ipynb) angesehen werden, aber es ist viel sinnvoller, sie herunterzuladen und sie lokal mit [Jupyter](http://jupyter.org/) zu öffnen und zu erkunden.\n",
    "\n",
    "Anweisungen zur Installation finden Sie im Abschnitt [Getting Started](index.ipynb#Getting-Started) auf der Hauptseite.\n",
    "\n",
    "Um eine Vorstellung davon zu bekommen, worum es bei Jupyter geht, werfen Sie einen Blick auf diese [Jupyter-Einführung](http://nbviewer.jupyter.org/github/mgeier/python-audio/blob/master/intro-jupyter.ipynb)."
   ]
  },
  {
   "cell_type": "markdown",
   "metadata": {
    "tags": []
   },
   "source": [
    "## Was werden wir heute lernen?\n",
    "\n",
    "* Grundlagen von Python, Jupyter/IPython, NumPy, SciPy, matplotlib und einigen anderen externen Bibliotheken"
   ]
  },
  {
   "cell_type": "markdown",
   "metadata": {
    "tags": []
   },
   "source": [
    "## Notebook Cells\n",
    "\n",
    "Das Notebook besteht aus sogenannten \"Zellen\", die für normalen Text (siehe oben) oder für Python-Code (siehe unten) verwendet werden können.\n",
    "*Code-Zellen* können per Mausklick (oder mit den Pfeiltasten nach oben/unten und *Enter*) ausgewählt werden, der Code kann bearbeitet und dann durch Drücken von *Shift+Enter* oder durch Anklicken der <button class=\"fa fa-step-forward fa-play icon-play btn btn-xs btn-default\"></button> Schaltfläche im oberen Teil der Seite ausgeführt werden.\n",
    "\n",
    "Seien Sie nicht schüchtern, probieren Sie es aus:"
   ]
  },
  {
   "cell_type": "code",
   "execution_count": null,
   "metadata": {},
   "outputs": [],
   "source": [
    "50 - 5 * 4 + 12\n",
    "a = 10"
   ]
  },
  {
   "cell_type": "markdown",
   "metadata": {},
   "source": [
    "Codezellen können aus mehreren Zeilen bestehen (verwenden Sie *Enter* für Zeilenumbrüche).\n",
    "Wenn die Codezelle ausgeführt wird, werden alle Zeilen ausgeführt, aber nur der Wert der letzten Zeile wird angezeigt (es sei denn, es gibt keinen Wert anzuzeigen).\n",
    "\n",
    "Hier ist eine weitere Codezelle, mit der Sie spielen können:"
   ]
  },
  {
   "cell_type": "code",
   "execution_count": null,
   "metadata": {},
   "outputs": [],
   "source": []
  },
  {
   "cell_type": "markdown",
   "metadata": {},
   "source": [
    "Neue Zellen können durch Drücken der Tasten *a* oder *b* (zum Einfügen *oberhalb* oder *unterhalb* der aktuellen Zelle) oder über das Menü eingefügt werden. Sie sollten auch einen Blick auf \"Hilfe\" -> \"Tastaturkürzel\" werfen.\n",
    "\n",
    "Durch wiederholtes Drücken der Tastenkombination *Umschalttaste+Eingabetaste* können Sie alle Zellen des Notebooks durchlaufen.\n",
    "Alternativ können Sie auch im Menü \"Run\" auf \"Run All Cells\" klicken."
   ]
  },
  {
   "cell_type": "markdown",
   "metadata": {},
   "source": [
    "# Basics\n",
    "Im Folgenden finden Sie ein Python-Programm, das viele der typischerweise benötigten Operationen enthält: Zuweisungen, Arithmetik, logische Operatoren, Ausgabe, Kommentare. Wie Sie sehen, ist Python recht einfach zu lesen. Ich bin sicher, Sie können die Bedeutung jeder Zeile selbst herausfinden."
   ]
  },
  {
   "cell_type": "code",
   "execution_count": null,
   "metadata": {},
   "outputs": [],
   "source": [
    "x = 34 - 23 # A comment.\n",
    "y = \"Hello\" # Another one.\n",
    "z = 3.45\n",
    "if z == 3.45 or y == \"Hello\":\n",
    "    x = x + 1\n",
    "    y = y + \" World\"\n",
    "print(x)\n",
    "print(y)"
   ]
  },
  {
   "cell_type": "markdown",
   "metadata": {},
   "source": [
    "## Einrückung\n",
    "Python behandelt Blöcke anders als andere Programmiersprachen, die Sie vielleicht kennen, wie Java oder C: Die erste Zeile mit weniger Einrückung steht außerhalb des Blocks, die erste Zeile mit mehr Einrückung beginnt einen verschachtelten Block. Ein Doppelpunkt leitet oft einen neuen Block ein. Im nachstehenden Code wird zum Beispiel die vierte Zeile immer ausgeführt, da sie nicht Teil des Blocks ist:"
   ]
  },
  {
   "cell_type": "code",
   "execution_count": null,
   "metadata": {},
   "outputs": [],
   "source": [
    "if 17<16:\n",
    "    print(\"executed conditionally\")\n",
    "    print(\"also conditionally\")\n",
    "print(\"always executed, because not part of the block above\")"
   ]
  },
  {
   "cell_type": "markdown",
   "metadata": {},
   "source": [
    "## Referenz-Semantik\n",
    "Zuweisungen verhalten sich so, wie Sie es vielleicht aus Java kennen: Für atomare Datentypen funktionieren Zuweisungen \"by value\", für alle anderen Datentypen (z.B. Listen) funktionieren Zuweisungen \"by reference\": Wenn wir ein Objekt manipulieren, wirkt sich das auf alle Referenzen aus."
   ]
  },
  {
   "cell_type": "code",
   "execution_count": null,
   "metadata": {},
   "outputs": [],
   "source": [
    "a=17\n",
    "b=a #assign the *value* of a to b\n",
    "a=12\n",
    "print(b) #still 12, because assinment by value\n",
    "\n",
    "x=[1,2,3] #this is what lists look like\n",
    "y=x #assign reference to the list to y\n",
    "x.append(4) #manipulate the list by adding a value\n",
    "print(y) #y also changed, because of assingment by reference"
   ]
  },
  {
   "cell_type": "markdown",
   "metadata": {},
   "source": [
    "# Listen\n",
    "Listen werden in eckigen Klammern geschrieben, wie Sie oben gesehen haben. Listen können Werte gemischten Typs enthalten. Listenindizes beginnen mit 0, wie Sie hier sehen können:"
   ]
  },
  {
   "cell_type": "code",
   "execution_count": null,
   "metadata": {},
   "outputs": [],
   "source": [
    "li = [17,\"Hello\",4.1,\"Bar\",5,6]\n",
    "li[3]"
   ]
  },
  {
   "cell_type": "markdown",
   "metadata": {},
   "source": [
    "Sie können auch negative Indizes verwenden, d. h. wir beginnen die Zählung von rechts:"
   ]
  },
  {
   "cell_type": "code",
   "execution_count": null,
   "metadata": {},
   "outputs": [],
   "source": [
    "li[-3]"
   ]
  },
  {
   "cell_type": "markdown",
   "metadata": {},
   "source": [
    "Sie können auch Teilmengen von Listen auswählen (\"slicing\"), etwa so:"
   ]
  },
  {
   "cell_type": "code",
   "execution_count": null,
   "metadata": {},
   "outputs": [],
   "source": [
    "li[2:5]"
   ]
  },
  {
   "cell_type": "markdown",
   "metadata": {},
   "source": [
    "Beachten Sie, dass das Slicing eine Kopie der Teilliste zurückgibt."
   ]
  },
  {
   "cell_type": "markdown",
   "metadata": {},
   "source": [
    "## Einige weitere Listenoperatoren\n",
    "Hier sind einige weitere Operatoren, die Sie vielleicht nützlich finden."
   ]
  },
  {
   "cell_type": "code",
   "execution_count": null,
   "metadata": {
    "tags": []
   },
   "outputs": [],
   "source": [
    "# Boolean test whether a value is in a list: the in operator\n",
    "t = [1,2,3,4]\n",
    "2 in t \n",
    "\n",
    "# Concatenate lists: the + operator\n",
    "a = [1,2,3,4]\n",
    "b = [5,6,7]\n",
    "c = a + b\n",
    "c\n",
    "\n",
    "# Repeat a list n times: the * operator\n",
    "a=[1,2,3]\n",
    "3*a\n",
    "\n",
    "# Append lists\n",
    "a=[1,2,3]\n",
    "a.append(4)\n",
    "\n",
    "# Index of first occurence\n",
    "a.index(2)\n",
    "\n",
    "# Number of occurences\n",
    "a = [1,2,3,2,1,2]\n",
    "a.count(2)\n",
    "\n",
    "# Remove first occurence\n",
    "a.remove(2)\n",
    "\n",
    "# Revese the list\n",
    "a.reverse()\n",
    "\n",
    "# Sort the list\n",
    "a.sort()"
   ]
  },
  {
   "cell_type": "markdown",
   "metadata": {},
   "source": [
    "*Aufgabe*: Probieren Sie aus was passiert, wenn Sie eine Liste von Strings mit den unten verwendeten Methoden sortieren! Was könnte der Grund für das gezeigte Verhalten sein?"
   ]
  },
  {
   "cell_type": "code",
   "execution_count": null,
   "metadata": {
    "tags": []
   },
   "outputs": [],
   "source": [
    "string_list = ['c', 'd', 'a', 'y', 'x']\n",
    "# Sorting with sorted()-method\n",
    "print('Value which is returned by sorted()-method: ', sorted(string_list))\n",
    "print('Original string_list: ', string_list)\n",
    "# Sorting with sort()-method\n",
    "print('Value which is returned by sort()-method: ', string_list.sort())\n",
    "print('Original string_list: ', str(string_list))"
   ]
  },
  {
   "cell_type": "markdown",
   "metadata": {},
   "source": [
    "## Dictionaries: Ein Mapping-Typ\n",
    "Dictionaries sind in anderen Sprachen als Maps bekannt: Sie speichern eine Zuordnung zwischen einer Menge von Schlüsseln und einer Menge von Werten. Im Folgenden finden Sie ein Beispiel für die Verwendung von Dictionaries:"
   ]
  },
  {
   "cell_type": "code",
   "execution_count": null,
   "metadata": {
    "tags": []
   },
   "outputs": [],
   "source": [
    "# Create a new dictionary\n",
    "d = {'user':'bozo', \n",
    "     'pswd':1234}\n",
    "\n",
    "# Access the values via a key\n",
    "print('Value for key \\'user\\': ', d['user'])\n",
    "\n",
    "# Add key-value pairs\n",
    "d['id'] = 17\n",
    "\n",
    "# List of keys\n",
    "print('List of keys: ', d.keys())\n",
    "\n",
    "# List of values\n",
    "print('List of values: ', d.values())"
   ]
  },
  {
   "cell_type": "markdown",
   "metadata": {},
   "source": [
    "# Funktionen\n",
    "Funktionen in Python funktionieren so, wie Sie es erwarten würden: Argumente an Funktionen werden durch Zuweisung übergeben, das heißt, übergebene Argumente werden lokalen Namen zugewiesen. Zuweisungen an Argumente können sich nicht auf den Aufrufer auswirken, aber veränderbare Argumente können sich ändern. Hier ist ein Beispiel für die Definition und den Aufruf einer Funktion:\n"
   ]
  },
  {
   "cell_type": "code",
   "execution_count": null,
   "metadata": {
    "tags": []
   },
   "outputs": [],
   "source": [
    "def myfun(x: int, y: float):\n",
    "    print(\"The function is executed.\")\n",
    "    y[0]=8 # This changes the list that y points to\n",
    "    return(y[1]+x)\n",
    "\n",
    "mylist = [1,2,3]\n",
    "result=myfun(17,mylist)\n",
    "print(\"Function returned: \",result)\n",
    "print(\"List is now: \",mylist)"
   ]
  },
  {
   "cell_type": "markdown",
   "metadata": {},
   "source": [
    "Beachten Sie, das `x: int` eine sogenannter *Type-Hint* ist. Das bedeutet, dass das `int` nach dem `:` vom Python-Interpreter nicht beachtet wird. Diese Art von Anotation soll also dem Entwickler nur ein Hinweis darauf geben, welchen Datentypen für welchen Parameter er erwarten kann, erzwingt aber keine Typsicherheit in Python!"
   ]
  },
  {
   "cell_type": "markdown",
   "metadata": {},
   "source": [
    "## Optionale Argumente\n",
    "Wir können Standardwerte für Argumente definieren, die nicht übergeben werden müssen:"
   ]
  },
  {
   "cell_type": "code",
   "execution_count": null,
   "metadata": {},
   "outputs": [],
   "source": [
    "def func(a, b, c=10, d=100):\n",
    "    print(a, b, c, d)\n",
    "type(func(b=1,a=2))\n",
    "myfun(1,2)"
   ]
  },
  {
   "cell_type": "markdown",
   "metadata": {},
   "source": [
    "Einige weitere Fakten über Funktionen:\n",
    "* Alle Funktionen in Python haben einen Rückgabewert, Funktionen ohne Rückgabewert haben den speziellen Rückgabewert `None` (wie z. B. die sort()-Funktion)\n",
    "* Es gibt keine Funktionsüberladung in Python.\n",
    "* Funktionen können wie jeder andere Datentyp verwendet werden: Sie können Argumente für Funktionen sein, Rückgabewerte von Funktionen, Variablen zugewiesen, usw. Das bedeutet, dass Python eine funktionale Programmiersprache ist, und wir können viele Dinge tun, die Sie aus Haskell kennen und lieben, wie Funktionen höherer Ordnung oder auch Lambda-Ausdrücke!"
   ]
  },
  {
   "cell_type": "markdown",
   "metadata": {},
   "source": [
    "# Kontrollstrukturen\n",
    "Wir haben oben bereits If-Anweisungen gesehen. For- und While-Schleifen funktionieren auch genau so, wie Sie es erwarten würden, hier sind nur einige Beispiele:"
   ]
  },
  {
   "cell_type": "code",
   "execution_count": null,
   "metadata": {},
   "outputs": [],
   "source": [
    "x = 3\n",
    "while x < 10:\n",
    "    if x > 7:\n",
    "        x += 2\n",
    "        continue\n",
    "    x = x + 1\n",
    "    print(\"Still in the loop.\")\n",
    "    if x == 8:\n",
    "        break\n",
    "print(\"Outside of the loop.\")"
   ]
  },
  {
   "cell_type": "code",
   "execution_count": null,
   "metadata": {},
   "outputs": [],
   "source": [
    "for x in range(10):\n",
    "    if x > 7:\n",
    "        x += 2\n",
    "        continue\n",
    "    x = x + 1\n",
    "    print(\"Still in the loop.\")\n",
    "    if x == 8:\n",
    "        break\n",
    "print(\"Outside of the loop.\")"
   ]
  },
  {
   "cell_type": "markdown",
   "metadata": {},
   "source": [
    "*Aufgabe*: Implementieren Sie eine Funktion, die prüft, ob eine gegebene Zahl eine Primzahl ist."
   ]
  },
  {
   "cell_type": "code",
   "execution_count": null,
   "metadata": {},
   "outputs": [],
   "source": [
    "def isPrime(n: int) -> int:\n",
    "    print('Implement me!')\n",
    "isPrime(18)"
   ]
  },
  {
   "cell_type": "markdown",
   "metadata": {},
   "source": [
    "# List Comprehensions\n",
    "Es gibt eine spezielle Syntax für List Comprehensions (die Sie vielleicht aus Haskell kennen)."
   ]
  },
  {
   "cell_type": "code",
   "execution_count": null,
   "metadata": {},
   "outputs": [],
   "source": [
    "evens1 = []\n",
    "for x in range(3,100):\n",
    "    if x%3 == 0:\n",
    "        evens1.append(x)\n",
    "print(evens1)\n",
    "\n",
    "# List of all multiples of 3 that are <100:\n",
    "evens2 = [x for x in range(3,100) if x%3==0]\n",
    "print(evens2)"
   ]
  },
  {
   "cell_type": "markdown",
   "metadata": {},
   "source": [
    "Aufgabe: Erstellen Sie mit Hilfe eines List Comprehension eine Liste aller Primzahlen < 1000."
   ]
  },
  {
   "cell_type": "code",
   "execution_count": null,
   "metadata": {},
   "outputs": [],
   "source": [
    "primes = ['Implement me!']"
   ]
  },
  {
   "cell_type": "markdown",
   "metadata": {},
   "source": [
    "# Numpy\n",
    "Numpy ist ein sehr beliebtes Python-Paket, das die Arbeit mit numerischen Arrays erleichtert. Es ist die Grundlage für vieles, was Sie in diesem Kurs sehen werden."
   ]
  },
  {
   "cell_type": "markdown",
   "metadata": {},
   "source": [
    "## Importieren von Modulen/Paketen\n",
    "\n",
    "Um mit numerischen Arrays arbeiten zu können, importieren wir das Paket [NumPy](http://www.numpy.org)."
   ]
  },
  {
   "cell_type": "code",
   "execution_count": null,
   "metadata": {
    "tags": []
   },
   "outputs": [],
   "source": [
    "import numpy as np"
   ]
  },
  {
   "cell_type": "markdown",
   "metadata": {},
   "source": [
    "Jetzt können wir alle NumPy-Funktionen verwenden (durch Voranstellen von \"`np.`\")."
   ]
  },
  {
   "cell_type": "code",
   "execution_count": null,
   "metadata": {},
   "outputs": [],
   "source": [
    "np.zeros(10000)"
   ]
  },
  {
   "cell_type": "markdown",
   "metadata": {},
   "source": [
    "## Tabulatorvervollständigung\n",
    "\n",
    "*Übung:* Tippen Sie \"`np.ze`\" (ohne Anführungszeichen) und drücken Sie dann die *Tab*-Taste ..."
   ]
  },
  {
   "cell_type": "code",
   "execution_count": null,
   "metadata": {},
   "outputs": [],
   "source": [
    "np."
   ]
  },
  {
   "cell_type": "markdown",
   "metadata": {},
   "source": [
    "## Array, Vektor, Matrix\n",
    "\n",
    "Arrays können beliebig viele Dimensionen haben, aber lassen Sie uns für den Moment nur eindimensionale Arrays verwenden.\n",
    "Arrays können mit [numpy.array()](http://docs.scipy.org/doc/numpy/reference/generated/numpy.array.html) erstellt werden:"
   ]
  },
  {
   "cell_type": "code",
   "execution_count": null,
   "metadata": {},
   "outputs": [],
   "source": [
    "a = np.array([0, 1, 2, 3, 4, 5, 6, 7, 8, 9])"
   ]
  },
  {
   "cell_type": "markdown",
   "metadata": {},
   "source": [
    "Beachten Sie, dass das Ergebnis nicht angezeigt wird, wenn Sie einer Variablen einen Wert zuweisen (da die Zuweisung eine *Anweisung* und kein *Ausdruck* ist).\n",
    "Um die Daten anzuzeigen, schreiben Sie den Variablennamen separat in die letzte (oder einzige) Zeile einer Codezelle."
   ]
  },
  {
   "cell_type": "code",
   "execution_count": null,
   "metadata": {},
   "outputs": [],
   "source": [
    "a"
   ]
  },
  {
   "cell_type": "markdown",
   "metadata": {},
   "source": [
    "Übrigens gibt es einen einfacheren Weg, dieses spezielle Array zu erhalten (mit [numpy.arange()](http://docs.scipy.org/doc/numpy/reference/generated/numpy.arange.html)):"
   ]
  },
  {
   "cell_type": "code",
   "execution_count": null,
   "metadata": {},
   "outputs": [],
   "source": [
    "b = np.arange(1,10)\n",
    "b"
   ]
  },
  {
   "cell_type": "markdown",
   "metadata": {},
   "source": [
    "## Hilfe erhalten\n",
    "\n",
    "Wenn Sie Einzelheiten über die Verwendung von `np.arange()` und alle unterstützten Argumente wissen wollen, werfen Sie einen Blick in den Hilfetext.\n",
    "Hängen Sie einfach ein Fragezeichen an den Funktionsnamen (ohne Klammern!):"
   ]
  },
  {
   "cell_type": "code",
   "execution_count": null,
   "metadata": {},
   "outputs": [],
   "source": [
    "np.arange?"
   ]
  },
  {
   "cell_type": "markdown",
   "metadata": {},
   "source": [
    "Im unteren Teil des Browserfensters sollte sich ein Hilfefenster öffnen.\n",
    "Dieses Fenster kann durch Drücken der Taste *q* (wie \"quit\") geschlossen werden.\n",
    "\n",
    "Holen wir uns mehr Hilfe:"
   ]
  },
  {
   "cell_type": "code",
   "execution_count": null,
   "metadata": {},
   "outputs": [],
   "source": [
    "np.zeros?"
   ]
  },
  {
   "cell_type": "markdown",
   "metadata": {},
   "source": [
    "Sie können auch Hilfe für das gesamte NumPy-Paket erhalten:"
   ]
  },
  {
   "cell_type": "code",
   "execution_count": null,
   "metadata": {},
   "outputs": [],
   "source": [
    "np?"
   ]
  },
  {
   "cell_type": "markdown",
   "metadata": {},
   "source": [
    "Sie können für jedes Objekt Hilfe erhalten, indem Sie ein Fragezeichen an den Namen des Objekts anhängen (oder voranstellen).\n",
    "Schauen wir uns an, was das Hilfesystem uns über unsere Variable `a` sagen kann:"
   ]
  },
  {
   "cell_type": "code",
   "execution_count": null,
   "metadata": {},
   "outputs": [],
   "source": [
    "a?"
   ]
  },
  {
   "cell_type": "markdown",
   "metadata": {},
   "source": [
    "Das Hilfesystem kann bei der Lösung der folgenden Aufgaben sehr nützlich sein ..."
   ]
  },
  {
   "cell_type": "markdown",
   "metadata": {},
   "source": [
    "## `np.arange()`\n",
    "\n",
    "Wir werden oft Sequenzen von gleichmäßig verteilten Zahlen brauchen, also lasst uns welche erstellen.\n",
    "\n",
    "*Übung:* Erzeugen Sie eine Zahlenfolge mit `np.arange()`, beginnend mit 0 und bis (aber nicht einschließlich) 6 mit einer Schrittweite von 1."
   ]
  },
  {
   "cell_type": "code",
   "execution_count": null,
   "metadata": {},
   "outputs": [],
   "source": [
    "'Implement me!'"
   ]
  },
  {
   "cell_type": "markdown",
   "metadata": {},
   "source": [
    "*Übung:* Erzeugen Sie eine Zahlenfolge mit `np.arange()`, beginnend mit 0 und bis (aber nicht einschließlich) 0,6 mit einer Schrittweite von 0,1."
   ]
  },
  {
   "cell_type": "code",
   "execution_count": null,
   "metadata": {},
   "outputs": [],
   "source": [
    "'Implement me!'"
   ]
  },
  {
   "cell_type": "markdown",
   "metadata": {},
   "source": [
    "*Übung:* Erzeugen Sie eine Zahlenfolge mit `np.arange()`, beginnend mit 0,5 bis (aber nicht einschließlich) 1,1 mit einer Schrittweite von 0,1."
   ]
  },
  {
   "cell_type": "code",
   "execution_count": null,
   "metadata": {},
   "outputs": [],
   "source": [
    "'Implement me!'"
   ]
  },
  {
   "cell_type": "markdown",
   "metadata": {},
   "source": [
    "Die vorherige Übung ist etwas knifflig.\n",
    "Wenn Sie es richtig gemacht haben, schauen Sie unter [arange considered harmful](http://nbviewer.ipython.org/github/mgeier/python-audio/blob/master/misc/arange.ipynb) nach, was Sie falsch gemacht haben *könnten*.\n",
    "Wenn Sie ein unerwartetes Ergebnis erhalten haben, schauen Sie unter [arange considered harmful](http://nbviewer.ipython.org/github/mgeier/python-audio/blob/master/misc/arange.ipynb) nach einer Erklärung.\n",
    "\n",
    "*Übung:* Können Sie das Problem beheben?"
   ]
  },
  {
   "cell_type": "code",
   "execution_count": null,
   "metadata": {},
   "outputs": [],
   "source": []
  },
  {
   "cell_type": "markdown",
   "metadata": {},
   "source": [
    "Was lernen wir aus all dem?\n",
    "$\\Rightarrow$\n",
    "`np.arange()` ist großartig, aber verwenden Sie es nur mit ganzzahligen Schrittweiten!"
   ]
  },
  {
   "cell_type": "markdown",
   "metadata": {},
   "source": [
    "## `np.linspace()`\n",
    "\n",
    "Eine andere, etwas andere Methode, um eine Folge von Zahlen mit gleichmäßigen Abständen zu erzeugen, ist [numpy.linspace()](http://docs.scipy.org/doc/numpy/reference/generated/numpy.linspace.html).\n",
    "Werfen Sie einen Blick in die Dokumentation."
   ]
  },
  {
   "cell_type": "code",
   "execution_count": null,
   "metadata": {},
   "outputs": [],
   "source": [
    "np.linspace?"
   ]
  },
  {
   "cell_type": "markdown",
   "metadata": {},
   "source": [
    "*Übung:* Erzeugen Sie eine Zahlenfolge mit `np.linspace()`, beginnend mit 0 und bis (einschließlich) 6 mit einer Schrittweite von 1."
   ]
  },
  {
   "cell_type": "code",
   "execution_count": null,
   "metadata": {},
   "outputs": [],
   "source": [
    "'Implement me!'"
   ]
  },
  {
   "cell_type": "markdown",
   "metadata": {},
   "source": [
    "Beachten Sie, dass das resultierende Array einen *Gleitkomma*-Datentyp hat, auch wenn alle Eingaben (und die Schrittweite) Ganzzahlen sind.\n",
    "Dies ist bei `np.arange()` nicht der Fall.\n",
    "\n",
    "*Übung:* Erzeugen Sie mit `np.linspace()` eine Folge von Zahlen, beginnend mit 0 und bis (aber nicht einschließlich) 6 mit einer Schrittweite von 1."
   ]
  },
  {
   "cell_type": "code",
   "execution_count": null,
   "metadata": {},
   "outputs": [],
   "source": [
    "'Implement me!'"
   ]
  },
  {
   "cell_type": "markdown",
   "metadata": {},
   "source": [
    "*Übung:* Erzeugen Sie eine Zahlenfolge mit `np.linspace()`, beginnend mit 0 und bis (aber nicht einschließlich) 0,6 mit einer Schrittweite von 0,1."
   ]
  },
  {
   "cell_type": "code",
   "execution_count": null,
   "metadata": {},
   "outputs": [],
   "source": [
    "'Implement me!'"
   ]
  },
  {
   "cell_type": "markdown",
   "metadata": {},
   "source": [
    "*Übung:* Erzeugen Sie eine Zahlenfolge mit `np.linspace()`, beginnend mit 0,5 und bis zu (aber nicht einschließlich) 1,1 mit einer Schrittweite von 0,1."
   ]
  },
  {
   "cell_type": "code",
   "execution_count": null,
   "metadata": {},
   "outputs": [],
   "source": [
    "'Implement me!'"
   ]
  },
  {
   "cell_type": "markdown",
   "metadata": {},
   "source": [
    "Beachten Sie, dass `np.linspace()` nicht das oben erwähnte Problem hat, das wir mit `np.arange()` hatten."
   ]
  },
  {
   "cell_type": "markdown",
   "metadata": {},
   "source": [
    "## Erstellen einer Sinuswelle\n",
    "\n",
    "Erstellen wir nun ein interessanteres Array, das ein digitales Sinussignal darstellt. Das Signal folgt der Gleichung $y(t) = A\\sin(\\omega t)$ mit $\\omega = 2\\pi f$ und $f$ ist die Frequenz des Sinus.\n",
    "Die maximale Signalamplitude ist durch $A$ gegeben.\n",
    "Die Variable $t$ steht natürlich für die Zeit.\n",
    "Wir wollen ein digitales Signal mit gleichmäßig verteilten Werten für $t$ erzeugen.\n",
    "\n",
    "Wir können die Funktion [numpy.sin()](http://docs.scipy.org/doc/numpy/reference/generated/numpy.sin.html) verwenden, um einen Sinuston zu erzeugen. Schauen wir uns zunächst den Hilfetext an."
   ]
  },
  {
   "cell_type": "code",
   "execution_count": null,
   "metadata": {},
   "outputs": [],
   "source": [
    "np.sin?"
   ]
  },
  {
   "cell_type": "markdown",
   "metadata": {},
   "source": [
    "Da wir nun wissen, welche Funktion wir aufrufen müssen, brauchen wir eine geeignete Eingabe.\n",
    "Und hier kommen unsere Sequenzen von gleichmäßig verteilten Werten von oben ins Spiel.\n",
    "\n",
    "Das Schöne an NumPy-Funktionen wie `np.sin()` ist, dass sie auf ganze Arrays auf einmal wirken können, so dass es nicht notwendig ist, die Funktion für jeden einzelnen Wert separat aufzurufen.\n",
    "Daher können wir den gesamten Wertebereich für unsere Zeitvariable $t$ in einem Array speichern.\n",
    "\n",
    "Gemäß der Gleichung muss jeder Wert von $t$ mit (der Konstante) $\\omega$ multipliziert werden.\n",
    "Das ist eine weitere nette Sache an NumPy: wir müssen nicht jeden Wert des Arrays $t$ einzeln mit $\\omega$ multiplizieren, wir können das ganze Array auf einmal mit einem Skalar multiplizieren, und NumPy übernimmt die elementweise Multiplikation für uns.\n",
    "Dies wird [\"broadcasting\"](http://docs.scipy.org/doc/numpy/user/basics.broadcasting.html) genannt, falls Sie über dieses Wort in der Dokumentation stolpern.\n",
    "Das Array, das von `np.sin()` zurückgegeben wird, kann (wiederum mittels Broadcasting) mit dem konstanten Skalar $A$ multipliziert werden, um das Endergebnis zu erhalten.\n",
    "\n",
    "Das einzige, was noch fehlt, ist $\\pi$, aber das ist einfach:"
   ]
  },
  {
   "cell_type": "code",
   "execution_count": null,
   "metadata": {},
   "outputs": [],
   "source": [
    "np.pi"
   ]
  },
  {
   "cell_type": "markdown",
   "metadata": {},
   "source": [
    "Nun wollen wir eine Sinuswelle mit einer Frequenz von 2 Hz, einer Dauer von 1 Sekunde und einer Amplitude von 0,3 erzeugen.\n",
    "Wir verwenden eine Abtastrate von 44,1 kHz."
   ]
  },
  {
   "cell_type": "code",
   "execution_count": null,
   "metadata": {
    "tags": []
   },
   "outputs": [],
   "source": [
    "dur = 1  # duration in seconds\n",
    "amp = 0.3  # maximum amplitude\n",
    "freq = 2  # frequency of the sine tone in Hertz\n",
    "fs = 44100  # sampling frequency in Hertz\n",
    "\n",
    "t = np.arange(np.ceil(dur * fs)) / fs\n",
    "y = amp * np.sin(2 * np.pi * freq * t)"
   ]
  },
  {
   "cell_type": "markdown",
   "metadata": {},
   "source": [
    "## Plotten\n",
    "\n",
    "Python und NumPy können nicht selbst plotten, sie benötigen die Hilfe von [matplotlib](http://matplotlib.org/)."
   ]
  },
  {
   "cell_type": "code",
   "execution_count": null,
   "metadata": {},
   "outputs": [],
   "source": [
    "import matplotlib.pyplot as plt\n",
    "%matplotlib inline"
   ]
  },
  {
   "cell_type": "markdown",
   "metadata": {},
   "source": [
    "Jetzt können wir die Daten aus unserem Array aufzeichnen:"
   ]
  },
  {
   "cell_type": "code",
   "execution_count": null,
   "metadata": {},
   "outputs": [],
   "source": [
    "plt.plot(y)"
   ]
  },
  {
   "cell_type": "markdown",
   "metadata": {},
   "source": [
    "Wie immer, für weitere Informationen:"
   ]
  },
  {
   "cell_type": "code",
   "execution_count": null,
   "metadata": {},
   "outputs": [],
   "source": [
    "%matplotlib?"
   ]
  },
  {
   "cell_type": "markdown",
   "metadata": {},
   "source": [
    "## Verändern des Plots\n",
    "\n",
    "Schauen wir uns noch einmal unseren Plot an."
   ]
  },
  {
   "cell_type": "code",
   "execution_count": null,
   "metadata": {},
   "outputs": [],
   "source": [
    "plt.plot(y);"
   ]
  },
  {
   "cell_type": "markdown",
   "metadata": {},
   "source": [
    "Da wir nur ein einziges Array an die Funktion `plot()` übergeben haben, zeigt die x-Achse den Sample-Index von 0 bis zur Länge des Signals in Samples (minus eins).\n",
    "Es könnte sinnvoller sein, die Zeit in Sekunden anzugeben.\n",
    "\n",
    "Aber lassen Sie uns zuerst die vorherige Darstellung schließen."
   ]
  },
  {
   "cell_type": "code",
   "execution_count": null,
   "metadata": {},
   "outputs": [],
   "source": [
    "plt.close()"
   ]
  },
  {
   "cell_type": "markdown",
   "metadata": {},
   "source": [
    "Wenn wir zwei Arrays an die Funktion `plot()` übergeben, definiert das erste die Zuordnung von Stichprobenindizes zu den tatsächlichen Werten, die auf der x-Achse angezeigt werden, das zweite gibt die entsprechenden y-Werte an."
   ]
  },
  {
   "cell_type": "code",
   "execution_count": null,
   "metadata": {},
   "outputs": [],
   "source": [
    "plt.plot(t, y);"
   ]
  },
  {
   "cell_type": "markdown",
   "metadata": {},
   "source": [
    "Gut, jetzt zeigt die x-Achse die Zeit in Sekunden an.\n",
    "Lassen Sie uns Achsenbeschriftungen erstellen, damit jeder Bescheid weiß."
   ]
  },
  {
   "cell_type": "code",
   "execution_count": null,
   "metadata": {},
   "outputs": [],
   "source": [
    "plt.plot(t, y)\n",
    "plt.xlabel(\"Time / Seconds\")\n",
    "plt.ylabel(\"Amplitude\")\n",
    "plt.title(\"Sine Tone with {} Hz\".format(freq));"
   ]
  },
  {
   "cell_type": "markdown",
   "metadata": {},
   "source": [
    "Weitere Informationen finden Sie unter [Getting Started With `matplotlib`](http://nbviewer.ipython.org/github/mgeier/python-audio/blob/master/plotting/matplotlib.ipynb)."
   ]
  },
  {
   "cell_type": "markdown",
   "metadata": {},
   "source": [
    "## Zweidimensionale Arrays\n",
    "\n",
    "Zweidimensionale Arrays sehen ein wenig aus wie Listen von Listen, aber intern werden sie immer noch in einem zusammenhängenden Speicherbereich gespeichert.\n",
    "\n",
    "Es gibt mehrere Funktionen zur Erstellung von Arrays, mit denen die Anzahl der Zeilen und Spalten angegeben werden kann, z. B. [numpy.zeros()](http://docs.scipy.org/doc/numpy/reference/generated/numpy.zeros.html) und [numpy.ones()](http://docs.scipy.org/doc/numpy/reference/generated/numpy.ones.html)."
   ]
  },
  {
   "cell_type": "code",
   "execution_count": null,
   "metadata": {},
   "outputs": [],
   "source": [
    "np.zeros((4, 2))"
   ]
  },
  {
   "cell_type": "code",
   "execution_count": null,
   "metadata": {},
   "outputs": [],
   "source": [
    "np.ones((4, 2))"
   ]
  },
  {
   "cell_type": "markdown",
   "metadata": {},
   "source": [
    "Arrays können auch aus Listen von Listen (auch bekannt als *verschachtelte* Listen) mit [numpy.array()](http://docs.scipy.org/doc/numpy/reference/generated/numpy.array.html) erstellt werden:"
   ]
  },
  {
   "cell_type": "code",
   "execution_count": null,
   "metadata": {},
   "outputs": [],
   "source": [
    "np.array([[.1, .2], [.3, .4], [.5, .6], [.7, .8]])"
   ]
  },
  {
   "cell_type": "markdown",
   "metadata": {},
   "source": [
    "Beachten Sie, dass die inneren Listen die einzelnen Zeilen des Arrays liefern.\n",
    "\n",
    "Zweidimensionale Arrays können auch durch spaltenweises Verketten einer Liste von eindimensionalen Arrays (oder Listen) mit [numpy.column_stack()](http://docs.scipy.org/doc/numpy/reference/generated/numpy.column_stack.html) erstellt werden:"
   ]
  },
  {
   "cell_type": "code",
   "execution_count": null,
   "metadata": {
    "tags": []
   },
   "outputs": [],
   "source": [
    "a = np.column_stack([[.1, .2, .3, .4], [.5, .6, .7, .8]])\n",
    "a"
   ]
  },
  {
   "cell_type": "markdown",
   "metadata": {},
   "source": [
    "Wenn Sie Zeilen und Spalten umdrehen wollen, können Sie das Array transponieren:"
   ]
  },
  {
   "cell_type": "code",
   "execution_count": null,
   "metadata": {
    "tags": []
   },
   "outputs": [],
   "source": [
    "a.T\n"
   ]
  },
  {
   "cell_type": "markdown",
   "metadata": {},
   "source": [
    "Das transponierte Array ist *nicht* eine Kopie des ursprünglichen Arrays, es ist vielmehr eine andere *Sicht* auf denselben Speicher.\n",
    "Das heißt, wenn Sie ein Element des transponierten Arrays ändern, wird diese Änderung auch im ursprünglichen Array sichtbar!"
   ]
  },
  {
   "cell_type": "code",
   "execution_count": null,
   "metadata": {},
   "outputs": [],
   "source": [
    "b[1, 2] = 0\n",
    "a"
   ]
  },
  {
   "cell_type": "markdown",
   "metadata": {},
   "source": [
    "## Array-Eigenschaften\n",
    "\n",
    "Lassen Sie uns ein zweidimensionales Array erstellen:"
   ]
  },
  {
   "cell_type": "code",
   "execution_count": null,
   "metadata": {
    "tags": []
   },
   "outputs": [],
   "source": [
    "x = np.random.normal(scale=0.2, size=(int(1.5 * fs), 2))\n",
    "x"
   ]
  },
  {
   "cell_type": "markdown",
   "metadata": {},
   "source": [
    "*Übung:* Probieren Sie diese verschiedenen Möglichkeiten aus, um die Größe des Feldes zu erhalten:"
   ]
  },
  {
   "cell_type": "code",
   "execution_count": null,
   "metadata": {
    "tags": []
   },
   "outputs": [],
   "source": [
    "len(a)"
   ]
  },
  {
   "cell_type": "code",
   "execution_count": null,
   "metadata": {
    "tags": []
   },
   "outputs": [],
   "source": [
    "a.shape"
   ]
  },
  {
   "cell_type": "code",
   "execution_count": null,
   "metadata": {
    "tags": []
   },
   "outputs": [],
   "source": [
    "a.size"
   ]
  },
  {
   "cell_type": "code",
   "execution_count": null,
   "metadata": {
    "tags": []
   },
   "outputs": [],
   "source": [
    "a.nbytes"
   ]
  },
  {
   "cell_type": "markdown",
   "metadata": {},
   "source": [
    "*Übung:* Es gibt noch viel mehr Informationen über das Array, probiere die folgenden Befehle aus und finde heraus, was sie bedeuten."
   ]
  },
  {
   "cell_type": "code",
   "execution_count": null,
   "metadata": {},
   "outputs": [],
   "source": [
    "x.ndim"
   ]
  },
  {
   "cell_type": "code",
   "execution_count": null,
   "metadata": {},
   "outputs": [],
   "source": [
    "x.dtype"
   ]
  },
  {
   "cell_type": "code",
   "execution_count": null,
   "metadata": {},
   "outputs": [],
   "source": [
    "x.itemsize"
   ]
  },
  {
   "cell_type": "code",
   "execution_count": null,
   "metadata": {},
   "outputs": [],
   "source": [
    "x.strides"
   ]
  },
  {
   "cell_type": "code",
   "execution_count": null,
   "metadata": {},
   "outputs": [],
   "source": [
    "x.flags"
   ]
  },
  {
   "cell_type": "markdown",
   "metadata": {},
   "source": [
    "*Übung:*\n",
    "Sie können auch einige statistische Werte über die Daten im Array erhalten.\n",
    "Prüfen Sie, ob sie mit dem gegebenen normalverteilten Rauschsignal übereinstimmen."
   ]
  },
  {
   "cell_type": "code",
   "execution_count": null,
   "metadata": {},
   "outputs": [],
   "source": [
    "x.max()"
   ]
  },
  {
   "cell_type": "code",
   "execution_count": null,
   "metadata": {},
   "outputs": [],
   "source": [
    "x.min()"
   ]
  },
  {
   "cell_type": "code",
   "execution_count": null,
   "metadata": {},
   "outputs": [],
   "source": [
    "x.ptp()"
   ]
  },
  {
   "cell_type": "code",
   "execution_count": null,
   "metadata": {},
   "outputs": [],
   "source": [
    "x.mean()"
   ]
  },
  {
   "cell_type": "code",
   "execution_count": null,
   "metadata": {},
   "outputs": [],
   "source": [
    "x.std()"
   ]
  },
  {
   "cell_type": "code",
   "execution_count": null,
   "metadata": {},
   "outputs": [],
   "source": [
    "x.var()"
   ]
  },
  {
   "cell_type": "markdown",
   "metadata": {},
   "source": [
    "Die meisten dieser *Methoden* existieren auch als *Funktionen*, z.B."
   ]
  },
  {
   "cell_type": "code",
   "execution_count": null,
   "metadata": {},
   "outputs": [],
   "source": [
    "np.max(x)"
   ]
  },
  {
   "cell_type": "markdown",
   "metadata": {},
   "source": [
    "Sowohl die Funktionen als auch die Methoden haben ein optionales Argument *Achse*.\n",
    "\n",
    "*Übung:* Versuchen Sie `axis=0` mit allen oben genannten Funktionen/Methoden."
   ]
  },
  {
   "cell_type": "code",
   "execution_count": null,
   "metadata": {},
   "outputs": [],
   "source": [
    "x.std(axis=0)"
   ]
  },
  {
   "cell_type": "code",
   "execution_count": null,
   "metadata": {},
   "outputs": [],
   "source": [
    "np.mean(x, axis=0)"
   ]
  },
  {
   "cell_type": "markdown",
   "metadata": {},
   "source": [
    "*Übung:* Was ist der Unterschied zwischen `axis=0` und `axis=1`?\n",
    "Was bedeutet `axis=-1`?"
   ]
  },
  {
   "cell_type": "code",
   "execution_count": null,
   "metadata": {},
   "outputs": [],
   "source": []
  },
  {
   "cell_type": "markdown",
   "metadata": {},
   "source": [
    "## Broadcasting\n",
    "\n",
    "Wir haben bereits gesehen, dass wenn ein Skalar mit einem Array multipliziert wird, diese Multiplikation elementweise auf dem Array durchgeführt wird.\n",
    "Die NumPy-Leute nennen dies [broadcasting](http://docs.scipy.org/doc/numpy/user/basics.broadcasting.html).\n",
    "\n",
    "Das Tolle daran ist, dass es nicht auf Operationen zwischen einem Skalar und einem Array beschränkt ist, sondern auch zwischen Arrays unterschiedlicher Anzahl von Dimensionen.\n",
    "\n",
    "Nehmen wir zum Beispiel ein eindimensionales Array mit zwei Werten und multiplizieren es mit unserem zweidimensionalen Array `x` von vorhin:"
   ]
  },
  {
   "cell_type": "code",
   "execution_count": null,
   "metadata": {},
   "outputs": [],
   "source": [
    "np.array([0.5, 100]) * x"
   ]
  },
  {
   "cell_type": "markdown",
   "metadata": {},
   "source": [
    "Obwohl diese beiden Arrays eindeutig eine unterschiedliche Form und eine unterschiedliche Anzahl von Dimensionen haben, hat die Multiplikation funktioniert.\n",
    "In diesem Fall wurde jedes Element der ersten Spalte von \"x\" mit dem ersten Wert der anderen Matrix multipliziert, und dasselbe gilt für die zweite Spalte und den zweiten Wert der Matrix.\n",
    "\n",
    "In diesem Beispiel hat das Ergebnis die gleiche Form wie einer der Operanden, und der andere Operand wurde entlang seiner einzigen (oder eher fehlenden) Dimension \"gestreckt\".\n",
    "\n",
    "Aber das muss nicht so sein.\n",
    "Erstellen wir ein zweidimensionales Array, das nur aus einer Spalte besteht:"
   ]
  },
  {
   "cell_type": "code",
   "execution_count": null,
   "metadata": {},
   "outputs": [],
   "source": [
    "y = np.random.normal(scale=0.2, size=(int(1.5 * fs), 1))\n",
    "y"
   ]
  },
  {
   "cell_type": "code",
   "execution_count": null,
   "metadata": {},
   "outputs": [],
   "source": [
    "y.shape"
   ]
  },
  {
   "cell_type": "markdown",
   "metadata": {},
   "source": [
    "Wenn wir ein eindimensionales Array mit diesem zweidimensionalen Spaltenarray multiplizieren, hat keine der Dimensionen die gleiche Größe.\n",
    "Dennoch können wir sie multiplizieren und beide Felder werden \"gestreckt\" (entlang ihrer singulären/fehlenden Dimension), was zu einem Ergebnis führt, das eine größere Form hat als einer der Operanden:"
   ]
  },
  {
   "cell_type": "code",
   "execution_count": null,
   "metadata": {},
   "outputs": [],
   "source": [
    "np.array([0.5, 100]) * y"
   ]
  },
  {
   "cell_type": "markdown",
   "metadata": {},
   "source": [
    "Die linke Spalte des Ergebnisses ist \"y\" multipliziert mit dem ersten Element der eindimensionalen Matrix, die rechte Spalte ist das gleiche \"y\" multipliziert mit dem zweiten Element."
   ]
  },
  {
   "cell_type": "markdown",
   "metadata": {},
   "source": [
    "<p xmlns:dct=\"http://purl.org/dc/terms/\">\n",
    "  <a rel=\"license\"\n",
    "     href=\"http://creativecommons.org/publicdomain/zero/1.0/\">\n",
    "    <img src=\"http://i.creativecommons.org/p/zero/1.0/88x31.png\" style=\"border-style: none;\" alt=\"CC0\" />\n",
    "  </a>\n",
    "  <br />\n",
    "  To the extent possible under law,\n",
    "  <span rel=\"dct:publisher\" resource=\"[_:publisher]\">the person who associated CC0</span>\n",
    "  with this work has waived all copyright and related or neighboring\n",
    "  rights to this work.\n",
    "</p>"
   ]
  }
 ],
 "metadata": {
  "kernelspec": {
   "display_name": "Python 3 (ipykernel)",
   "language": "python",
   "name": "python3"
  },
  "language_info": {
   "codemirror_mode": {
    "name": "ipython",
    "version": 3
   },
   "file_extension": ".py",
   "mimetype": "text/x-python",
   "name": "python",
   "nbconvert_exporter": "python",
   "pygments_lexer": "ipython3",
   "version": "3.10.2"
  }
 },
 "nbformat": 4,
 "nbformat_minor": 4
}
