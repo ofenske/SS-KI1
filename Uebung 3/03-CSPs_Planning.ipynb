{
 "cells": [
  {
   "cell_type": "markdown",
   "metadata": {},
   "source": [
    "# 3. Constraint Satisfaction Probleme und Planung\n",
    "\n",
    "## 3.1. Kartenfärbungsprobleme als CSP\n",
    "Gegeben sei die folgende Karte von Mecklenburg-Vorpommern.    \n",
    "![map.png](map.png)\n",
    "\n",
    "* Spezifizieren Sie, analog zur Vorlesung, das zugehörige Kartenfärbungsproblem für 3 Farben als Constraint Satisfaction Problem. Geben Sie für alle Variablen die Domänen und alle notwendigen Bedingungen an.\n",
    "\n",
    "* Bestimmen Sie eine Lösung für dieses Problem über Suche mit Backtracking! Benutzen Sie dabei die Heuristik Minimum remaining values und geben Sie für jeden Zwischenschritt und jedes Land die möglichen Farben an!"
   ]
  },
  {
   "cell_type": "markdown",
   "metadata": {},
   "source": [
    "## 3.2. Ein einfaches Planungs-Problem\n",
    "Das Anziehen von Socken und Schuhen ist ein Planungsproblem. Schuhe können nur angezogen werden, wenn die jeweilige Socke schon angezogen ist. In dieser Aufgabe soll das Anziehen von Socken und Schuhen modelliert werden.\n",
    "* Zeichnen Sie den partiell geordneten Plan, und alle total geordneten Pläne auf.\n",
    "* Modellieren und lösen Sie das Problem mithilfe der Problem-Domain-Definition-Language (PDDL). \n",
    "    * Folgen Sie dafür dem folgenden Link: http://editor.planning.domains/#\n",
    "    * Definieren Sie jeweils eine Datei problem.pddl für das Problem und domain.pddl für die Domäne.\n",
    "    * Führen den Solver aus und lassen Sie sich eine Lösung ausgeben.\n",
    "* Alternativ starten Sie ein neues Terminal hier im Jupyter Dashboard und navigieren in den Ordner \"U4\".\n",
    "* Den Planer können Sie wie folgt aufrufen: ./ff -o shoes/d.pddl -f shoes/p.pddl. Interpretieren Sie die Ausgabe."
   ]
  },
  {
   "cell_type": "markdown",
   "metadata": {},
   "source": [
    "## 3.3. Das Office-Planungsproblem\n",
    "In dieser Aufgabe soll der typische Arbeitstag der Mitarbeiter am Lehrstuhl MMIS (Kaffee holen, umherlaufen, Dinge ausdrucken) als Planungsproblem modelliert werden. Mitarbeiter können nur Kaffee machen, wenn die Kaffeemaschine mit Kaffee und Wasser befüllt ist. Kaffee kann am Kaffee-Glas geholt werden, Wasser am Wasserhahn. Mitarbeiter können immer nur ein Ding gleichzeitig in der Hand halten. Am Drucker kann nur gedruckt werden, wenn der Drucker mit Papier befüllt ist. Papier gibt es am Papier-Schrank. Das Ziel der Mitarbeiter ist es, alle Printjobs gedruckt zu haben, alle einen Kaffee in der Hand zu halten, und am Ausgang zu stehen.\n",
    "\n",
    "![office.png](office.png)\n",
    "\n",
    "Die verfügbare Aktionen der Mitarbeiter sind:\n",
    "\n",
    "* goto: Ein Mitarbeiter bewegt sich zwischen zwei Positionen. Die beiden Positionen dürfen nicht gleich sein.\n",
    "* fetch: Ein Mitarbeiter nimmt Papier, Kaffee oder Wasser, wenn er sich an der jeweigen Location befindet.\n",
    "* replenish: Ein Mitarbeiter füllt den Drucker oder die Kaffeemaschine auf. Das geht dann, wenn der die entsprechende Ressource in der Hand hält.\n",
    "* get-coffee: Ein Mitarbeiter nimmt sich einen Kaffee, wenn er an der Maschine steht, und diese befüllt ist.\n",
    "* print: Ein Mitarbeiter druckt einen Printjob, wenn er am Drucker steht, und der Drucker Papier enthält.\n",
    "\n",
    "Definieren Sie die entsprechenden Aktionen in der Domänen-Datei abc-d.pddl. Rufen Sie den Planer wie folgt auf: ./ff -o abc/abc-d.pddl -f abc/abc-p1.pddl. Interpretieren Sie die Ausgabe."
   ]
  },
  {
   "cell_type": "markdown",
   "metadata": {},
   "source": []
  }
 ],
 "metadata": {
  "kernelspec": {
   "display_name": "Python 3 (ipykernel)",
   "language": "python",
   "name": "python3"
  },
  "language_info": {
   "codemirror_mode": {
    "name": "ipython",
    "version": 3
   },
   "file_extension": ".py",
   "mimetype": "text/x-python",
   "name": "python",
   "nbconvert_exporter": "python",
   "pygments_lexer": "ipython3",
   "version": "3.10.2"
  }
 },
 "nbformat": 4,
 "nbformat_minor": 4
}
